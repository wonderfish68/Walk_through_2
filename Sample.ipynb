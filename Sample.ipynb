{
 "cells": [
  {
   "cell_type": "markdown",
   "id": "de556f0f-50e2-41a6-b0f4-b356efff1d0f",
   "metadata": {
    "jp-MarkdownHeadingCollapsed": true,
    "tags": []
   },
   "source": [
    "### Walk though"
   ]
  },
  {
   "cell_type": "markdown",
   "id": "07f87faf-c75d-420e-b237-ac92f7a37ce0",
   "metadata": {
    "tags": []
   },
   "source": [
    "### Walkthough sample for note book, here is how I calculate `1+1`:\n",
    "\n"
   ]
  },
  {
   "cell_type": "code",
   "execution_count": 6,
   "id": "9618471b-e1c7-478f-9a41-97c1ada75ec2",
   "metadata": {},
   "outputs": [],
   "source": [
    "from numpy import *"
   ]
  },
  {
   "cell_type": "markdown",
   "id": "8d52b92e-ba01-491a-940c-14e87303e27d",
   "metadata": {
    "tags": []
   },
   "source": [
    "### Here is how I calculate `sin`"
   ]
  },
  {
   "cell_type": "code",
   "execution_count": 8,
   "id": "46ccfa43-cf9b-46c7-9942-9fb6baef16d9",
   "metadata": {},
   "outputs": [
    {
     "data": {
      "text/plain": [
       "array([0.84147098, 1.        ])"
      ]
     },
     "execution_count": 8,
     "metadata": {},
     "output_type": "execute_result"
    }
   ],
   "source": [
    "a = array([1.0, pi/2])\n",
    "sin(a)"
   ]
  },
  {
   "cell_type": "code",
   "execution_count": null,
   "id": "f6f44d03-83ee-4544-a60a-9f7b2443edd9",
   "metadata": {},
   "outputs": [],
   "source": []
  }
 ],
 "metadata": {
  "kernelspec": {
   "display_name": "Python 3 (ipykernel)",
   "language": "python",
   "name": "python3"
  },
  "language_info": {
   "codemirror_mode": {
    "name": "ipython",
    "version": 3
   },
   "file_extension": ".py",
   "mimetype": "text/x-python",
   "name": "python",
   "nbconvert_exporter": "python",
   "pygments_lexer": "ipython3",
   "version": "3.9.10"
  }
 },
 "nbformat": 4,
 "nbformat_minor": 5
}
